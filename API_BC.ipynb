{
 "cells": [
  {
   "cell_type": "code",
   "execution_count": null,
   "metadata": {
    "scrolled": true
   },
   "outputs": [],
   "source": [
    "import pandas as pd\n",
    "from urllib.request import urlopen\n",
    "import json\n",
    "import sys\n",
    "import csv\n",
    "import urllib\n",
    "import time\n",
    "import urllib.request\n",
    "import urllib.error\n",
    "\n",
    "\n",
    "df = pd.read_csv(r'C:\\Users\\perika01\\Desktop\\Neuer Ordner\\folder\\transactions-0-537556_chunk1569.csv',delimiter=\";\")\n",
    "\n",
    "d=[]\n",
    "for i in range(40000):\n",
    "       \n",
    "    url = \"https://blockchain.info/rawtx/\"+(df['txid'][i])+\"?format=json\"\n",
    "    while True:\n",
    "        try:\n",
    "            req = urllib.request.urlopen(url)\n",
    "            htmlSource = req.read()\n",
    "            if req.getcode() == 200:\n",
    "                break\n",
    "        except urllib.error.HTTPError as e:\n",
    "            print('HTTPError='+ str(e))\n",
    "        except urllib.error.URLError as e:\n",
    "            print('URLError='+ str(e))\n",
    "        \n",
    "    #print(htmlSource)\n",
    "    #data = json.load(htmlSource)\n",
    "    data = json.loads(htmlSource.decode('utf-8'))\n",
    "            \n",
    "    if 'prev_out' not in data['inputs'][0] :\n",
    "        #print(\"Initial Address\",i)\n",
    "        e=\"Initial Address\"\n",
    "        d.append(e)\n",
    "        #df1[i]=\"no address\"\n",
    "    else:\n",
    "        #print(data['inputs'][0][\"prev_out\"][\"addr\"])\n",
    "        #df1[i]=data['inputs'][0][\"prev_out\"][\"addr\"]\n",
    "        e=data['inputs'][0][\"prev_out\"][\"addr\"]\n",
    "        f=data['inputs'][0][\"prev_out\"][\"value\"]\n",
    "        #print(f)\n",
    "        g=e+\";\"+str(f)+\";\"+df['txid'][i]\n",
    "        d.append(g)\n",
    "        print(i)\n",
    "    if i%2000==0: time.sleep(5)\n",
    "    if i%5000==0: time.sleep(5)\n",
    "with open(r\"C:\\Users\\perika01\\Desktop\\Neuer Ordner\\data\\test1569.csv\",\"w\",newline=\"\") as f:\n",
    "    writer = csv.writer(f,delimiter=\";\",quoting=csv.QUOTE_MINIMAL)\n",
    "    for item in d:\n",
    "        #print(item)\n",
    "        writer.writerows([[item]])\n",
    "    \n",
    "    #print(data['inputs'][0][\"prev_out\"])"
   ]
  }
 ],
 "metadata": {
  "kernelspec": {
   "display_name": "Python 3",
   "language": "python",
   "name": "python3"
  },
  "language_info": {
   "codemirror_mode": {
    "name": "ipython",
    "version": 3
   },
   "file_extension": ".py",
   "mimetype": "text/x-python",
   "name": "python",
   "nbconvert_exporter": "python",
   "pygments_lexer": "ipython3",
   "version": "3.6.2"
  }
 },
 "nbformat": 4,
 "nbformat_minor": 2
}
